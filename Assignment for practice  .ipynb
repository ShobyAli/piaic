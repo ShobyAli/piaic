{
 "cells": [
  {
   "cell_type": "code",
   "execution_count": null,
   "metadata": {},
   "outputs": [],
   "source": [
    "account_holder_name = \"shoaib\"\n",
    "account_holder_pass = \"12345\"\n",
    "account_balance = 10000\n",
    "\n",
    "account_name = ( input(\"Enter your account name: \")).lower()\n",
    "\n",
    "if account_name == account_holder_name:\n",
    "    print(\"Welcome,\",account_holder_name )\n",
    "    account_pass = (input(\"Enter password: \"))\n",
    "    \n",
    "    if account_pass == account_holder_pass:\n",
    "        \n",
    "        print(\"(1.) Balance inquiry type:B \" \"(2.) Withdrawal type: W \" \"(3.) Deposit type: D\" )\n",
    "        account_quarries = (input(\"input quarries: \")).lower()\n",
    "        if account_quarries == \"b\":\n",
    "            print(\"your balance is:\", account_balance )\n",
    "            \n",
    "        elif account_quarries == \"w\":\n",
    "            debit_balance = int(input(\"Enter Amount: \"))\n",
    "            print(\"Thank you, after withdrawal your current balance is:\", account_balance - debit_balance )\n",
    "            \n",
    "        elif account_quarries == \"d\":\n",
    "            credit_balance = int(input(\"Enter Amount: \"))\n",
    "            print(\"Thank you, after deposit your current balance is:\", account_balance + credit_balance)\n",
    "            \n",
    "        else:\n",
    "            print(\"incorrect\")\n",
    "            \n",
    "    else:\n",
    "        print(\"please enter correct password\")\n",
    "else:\n",
    "    print(\"Sorry invalid name\")\n"
   ]
  },
  {
   "cell_type": "code",
   "execution_count": 7,
   "metadata": {},
   "outputs": [
    {
     "data": {
      "text/plain": [
       "['Shoaib', 'Mubeen', 'Raheel', 'Noman']"
      ]
     },
     "execution_count": 7,
     "metadata": {},
     "output_type": "execute_result"
    }
   ],
   "source": [
    "name = [\"Shoaib\", \"Mubeen\", \"Raheel\", \"Noman\"]\n",
    "name"
   ]
  },
  {
   "cell_type": "code",
   "execution_count": 8,
   "metadata": {},
   "outputs": [
    {
     "name": "stdout",
     "output_type": "stream",
     "text": [
      "['Shoaib', 'Mubeen', 'Raheel', 'Noman']\n"
     ]
    }
   ],
   "source": [
    "print(name)"
   ]
  },
  {
   "cell_type": "code",
   "execution_count": 1,
   "metadata": {},
   "outputs": [],
   "source": [
    "bestfriend = []\n"
   ]
  },
  {
   "cell_type": "code",
   "execution_count": 8,
   "metadata": {},
   "outputs": [
    {
     "name": "stdout",
     "output_type": "stream",
     "text": [
      "256\n"
     ]
    }
   ],
   "source": [
    "r = 4\n",
    "print(r ** r)"
   ]
  },
  {
   "cell_type": "code",
   "execution_count": 9,
   "metadata": {},
   "outputs": [
    {
     "name": "stdout",
     "output_type": "stream",
     "text": [
      "16\n"
     ]
    }
   ],
   "source": [
    "print(4 * 4)"
   ]
  },
  {
   "cell_type": "code",
   "execution_count": 11,
   "metadata": {},
   "outputs": [
    {
     "name": "stdout",
     "output_type": "stream",
     "text": [
      "64\n"
     ]
    }
   ],
   "source": [
    "print(16 * 4)"
   ]
  },
  {
   "cell_type": "code",
   "execution_count": 12,
   "metadata": {},
   "outputs": [
    {
     "name": "stdout",
     "output_type": "stream",
     "text": [
      "256\n"
     ]
    }
   ],
   "source": [
    "print(64 * 4)"
   ]
  },
  {
   "cell_type": "code",
   "execution_count": 15,
   "metadata": {},
   "outputs": [
    {
     "name": "stdout",
     "output_type": "stream",
     "text": [
      "enter alphabet to check vowel or note\n",
      "e is vowel\n"
     ]
    }
   ],
   "source": [
    "vowel = [\"a\", \"e\", \"i\", \"o\", \"u\"]\n",
    "character = input(\"enter alphabet\")\n",
    "if character.lower() in vowel:\n",
    "    print(f'{character} is vowel')\n",
    "else:\n",
    "    print(f'{character} is not vowel')"
   ]
  },
  {
   "cell_type": "code",
   "execution_count": null,
   "metadata": {},
   "outputs": [],
   "source": []
  }
 ],
 "metadata": {
  "kernelspec": {
   "display_name": "Python 3",
   "language": "python",
   "name": "python3"
  },
  "language_info": {
   "codemirror_mode": {
    "name": "ipython",
    "version": 3
   },
   "file_extension": ".py",
   "mimetype": "text/x-python",
   "name": "python",
   "nbconvert_exporter": "python",
   "pygments_lexer": "ipython3",
   "version": "3.7.3"
  }
 },
 "nbformat": 4,
 "nbformat_minor": 2
}
