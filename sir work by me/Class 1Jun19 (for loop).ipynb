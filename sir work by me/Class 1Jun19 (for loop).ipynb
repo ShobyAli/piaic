{
 "cells": [
  {
   "cell_type": "markdown",
   "metadata": {},
   "source": [
    "# For loop"
   ]
  },
  {
   "cell_type": "code",
   "execution_count": 2,
   "metadata": {},
   "outputs": [
    {
     "data": {
      "text/plain": [
       "['Furqan', 'Raheel', 'Sanil', 'Nuruddin']"
      ]
     },
     "execution_count": 2,
     "metadata": {},
     "output_type": "execute_result"
    }
   ],
   "source": [
    "employees = [\"Furqan\", \"Raheel\", \"Sanil\", \"Nuruddin\"]\n",
    "employees"
   ]
  },
  {
   "cell_type": "code",
   "execution_count": 5,
   "metadata": {},
   "outputs": [
    {
     "name": "stdout",
     "output_type": "stream",
     "text": [
      "Furqan\n",
      "Raheel\n",
      "Sanil\n",
      "Nuruddin\n"
     ]
    }
   ],
   "source": [
    "for employee in employees:\n",
    "    print(employee)"
   ]
  },
  {
   "cell_type": "code",
   "execution_count": 8,
   "metadata": {},
   "outputs": [
    {
     "name": "stdout",
     "output_type": "stream",
     "text": [
      "Furqan you are welcome to attend meeting\n",
      "Raheel you are not attend meeting\n",
      "Sanil you are welcome to attend meeting\n",
      "Nuruddin you are welcome to attend meeting\n"
     ]
    }
   ],
   "source": [
    "for employee in employees:\n",
    "    if employee == \"Raheel\":\n",
    "        print(f\"{employee} you are not attend meeting\")\n",
    "    else:\n",
    "        print(f\"{employee} you are welcome to attend meeting\")"
   ]
  },
  {
   "cell_type": "code",
   "execution_count": 9,
   "metadata": {},
   "outputs": [],
   "source": [
    "selected = [\"Raheel\", \"Sanil\"]"
   ]
  },
  {
   "cell_type": "code",
   "execution_count": 10,
   "metadata": {},
   "outputs": [
    {
     "name": "stdout",
     "output_type": "stream",
     "text": [
      "Furqan you are not selected for reward\n",
      "Raheel you are not selected for reward\n",
      "Sanil you are not selected for reward\n",
      "Nuruddin you are not selected for reward\n"
     ]
    }
   ],
   "source": [
    "for employee in employees:\n",
    "    if employee == selected:\n",
    "        print(f\"{employee} you are selected for reward\")\n",
    "    else:\n",
    "        print(f\"{employee} you are not selected for reward\")\n",
    "        "
   ]
  },
  {
   "cell_type": "code",
   "execution_count": 11,
   "metadata": {},
   "outputs": [
    {
     "name": "stdout",
     "output_type": "stream",
     "text": [
      "S\n",
      "H\n",
      "O\n",
      "A\n",
      "I\n",
      "B\n"
     ]
    }
   ],
   "source": [
    "for x in \"SHOAIB\":\n",
    "    print(x)"
   ]
  },
  {
   "cell_type": "code",
   "execution_count": 13,
   "metadata": {},
   "outputs": [
    {
     "name": "stdout",
     "output_type": "stream",
     "text": [
      "SHOAIB"
     ]
    }
   ],
   "source": [
    "for x in \"SHOAIB\":  # when you do end = \"\" its not move on new line\n",
    "    print(x, end=\"\")"
   ]
  },
  {
   "cell_type": "code",
   "execution_count": 16,
   "metadata": {},
   "outputs": [
    {
     "name": "stdout",
     "output_type": "stream",
     "text": [
      "0 1 2 3 4 5 6 7 8 9 "
     ]
    }
   ],
   "source": [
    "for num in range(10):\n",
    "    print(num, end=\" \")"
   ]
  },
  {
   "cell_type": "code",
   "execution_count": 19,
   "metadata": {},
   "outputs": [
    {
     "name": "stdout",
     "output_type": "stream",
     "text": [
      "1 2 3 4 5 6 7 8 9 "
     ]
    }
   ],
   "source": [
    "for num in range(1,10):\n",
    "    print(num, end=\" \")"
   ]
  },
  {
   "cell_type": "code",
   "execution_count": 27,
   "metadata": {},
   "outputs": [
    {
     "name": "stdout",
     "output_type": "stream",
     "text": [
      "0 2 4 6 8 10 12 14 16 18 20 "
     ]
    }
   ],
   "source": [
    "for num in range(0, 21, 2):\n",
    "    print(num, end=\" \")"
   ]
  },
  {
   "cell_type": "code",
   "execution_count": 46,
   "metadata": {},
   "outputs": [
    {
     "name": "stdout",
     "output_type": "stream",
     "text": [
      "Enter Table Number: 5\n",
      "5 * 1 = 5\n",
      "5 * 2 = 10\n",
      "5 * 3 = 15\n",
      "5 * 4 = 20\n",
      "5 * 5 = 25\n",
      "5 * 6 = 30\n",
      "5 * 7 = 35\n",
      "5 * 8 = 40\n",
      "5 * 9 = 45\n",
      "5 * 10 = 50\n"
     ]
    }
   ],
   "source": [
    "table_num = int(input(\"Enter Table Number: \"))\n",
    "\n",
    "for num in range(1, 11):\n",
    "    print(str(table_num)+ \" * \"+ str(num) + \" = \" + str(table_num * num))"
   ]
  },
  {
   "cell_type": "code",
   "execution_count": 54,
   "metadata": {},
   "outputs": [
    {
     "name": "stdout",
     "output_type": "stream",
     "text": [
      "Enter Table Num: 4\n",
      "4 * 1 = 4\n",
      "4 * 3 = 12\n",
      "4 * 5 = 20\n",
      "4 * 7 = 28\n",
      "4 * 9 = 36\n"
     ]
    }
   ],
   "source": [
    "table_num = int(input(\"Enter Table Num: \"))\n",
    "\n",
    "for num in range(1, 10):\n",
    "    if num % 2 == 0:\n",
    "        continue  # when we use continue it skip that number which is divisible \n",
    "        \n",
    "    else:\n",
    "        print(f'{table_num} * {num} = {table_num * num}')"
   ]
  },
  {
   "cell_type": "code",
   "execution_count": 58,
   "metadata": {},
   "outputs": [
    {
     "name": "stdout",
     "output_type": "stream",
     "text": [
      "Enter Table Num: 4\n",
      "4 * 1 = 4\n",
      "4 * 2 = 8\n"
     ]
    }
   ],
   "source": [
    "table_num = int(input(\"Enter Table Num: \"))\n",
    "\n",
    "for num in range(1, 10):\n",
    "    if num % 3 == 0:\n",
    "        break  # when we use break it skip the program when number is divisible \n",
    "        \n",
    "    else:\n",
    "        print(f'{table_num} * {num} = {table_num * num}')"
   ]
  },
  {
   "cell_type": "code",
   "execution_count": null,
   "metadata": {},
   "outputs": [],
   "source": [
    "best_friends = []"
   ]
  },
  {
   "cell_type": "code",
   "execution_count": null,
   "metadata": {},
   "outputs": [],
   "source": [
    "\n",
    "for num in range(5):\n",
    "    name = input(\"Enter Your Friend Name: \").title()\n",
    "    if name.startswith(\"A\"):   \n",
    "        best_friends.append(name)\n"
   ]
  },
  {
   "cell_type": "code",
   "execution_count": null,
   "metadata": {},
   "outputs": [],
   "source": [
    "best_friends"
   ]
  },
  {
   "cell_type": "code",
   "execution_count": 4,
   "metadata": {},
   "outputs": [],
   "source": [
    "great_friends = []"
   ]
  },
  {
   "cell_type": "code",
   "execution_count": 5,
   "metadata": {},
   "outputs": [
    {
     "name": "stdout",
     "output_type": "stream",
     "text": [
      "Enter Friend Name: sanil\n",
      "Enter Friend Name: nuruddin\n",
      "Enter Friend Name: ali\n",
      "['sanil', 'nuruddin']\n"
     ]
    }
   ],
   "source": [
    "\n",
    "for count in range(1,4):\n",
    "    friend = input('Enter Friend Name: ')\n",
    "    if friend.startswith(\"a\"):\n",
    "        continue                     # in this code it keyword continue skip start with a and add opp of a.\n",
    "    great_friends.append(friend)     # in break when condition met it come out \n",
    "    \n",
    "print(great_friends)"
   ]
  },
  {
   "cell_type": "markdown",
   "metadata": {},
   "source": [
    "# Nested for loop"
   ]
  },
  {
   "cell_type": "code",
   "execution_count": 73,
   "metadata": {},
   "outputs": [
    {
     "name": "stdout",
     "output_type": "stream",
     "text": [
      "1 S\n",
      "1 H\n",
      "1 O\n",
      "1 A\n",
      "1 I\n",
      "1 B\n",
      "2 S\n",
      "2 H\n",
      "2 O\n",
      "2 A\n",
      "2 I\n",
      "2 B\n",
      "3 S\n",
      "3 H\n",
      "3 O\n",
      "3 A\n",
      "3 I\n",
      "3 B\n",
      "4 S\n",
      "4 H\n",
      "4 O\n",
      "4 A\n",
      "4 I\n",
      "4 B\n"
     ]
    }
   ],
   "source": [
    "for a in [1, 2, 3, 4]:\n",
    "    for b in \"SHOAIB\":\n",
    "        print(a, b,)"
   ]
  },
  {
   "cell_type": "code",
   "execution_count": 8,
   "metadata": {},
   "outputs": [
    {
     "name": "stdout",
     "output_type": "stream",
     "text": [
      "enter table start: 2\n",
      "enter table end: 5\n",
      "----------------\n",
      "2 * 1 = 2\n",
      "2 * 2 = 4\n",
      "2 * 3 = 6\n",
      "2 * 4 = 8\n",
      "2 * 5 = 10\n",
      "2 * 6 = 12\n",
      "2 * 7 = 14\n",
      "2 * 8 = 16\n",
      "2 * 9 = 18\n",
      "2 * 10 = 20\n",
      "----------------\n",
      "3 * 1 = 3\n",
      "3 * 2 = 6\n",
      "3 * 3 = 9\n",
      "3 * 4 = 12\n",
      "3 * 5 = 15\n",
      "3 * 6 = 18\n",
      "3 * 7 = 21\n",
      "3 * 8 = 24\n",
      "3 * 9 = 27\n",
      "3 * 10 = 30\n",
      "----------------\n",
      "4 * 1 = 4\n",
      "4 * 2 = 8\n",
      "4 * 3 = 12\n",
      "4 * 4 = 16\n",
      "4 * 5 = 20\n",
      "4 * 6 = 24\n",
      "4 * 7 = 28\n",
      "4 * 8 = 32\n",
      "4 * 9 = 36\n",
      "4 * 10 = 40\n",
      "----------------\n",
      "5 * 1 = 5\n",
      "5 * 2 = 10\n",
      "5 * 3 = 15\n",
      "5 * 4 = 20\n",
      "5 * 5 = 25\n",
      "5 * 6 = 30\n",
      "5 * 7 = 35\n",
      "5 * 8 = 40\n",
      "5 * 9 = 45\n",
      "5 * 10 = 50\n"
     ]
    }
   ],
   "source": [
    "n1 = int(input(\"enter table start: \"))\n",
    "n2 = int(input(\"enter table end: \"))\n",
    "for num in range(n1, (n2 + 1)):\n",
    "    print(\"----------------\")\n",
    "    for table in range (1, 11):\n",
    "        print(f'{num} * {table} = {num * table}')\n",
    "        \n"
   ]
  },
  {
   "cell_type": "code",
   "execution_count": null,
   "metadata": {},
   "outputs": [],
   "source": []
  },
  {
   "cell_type": "markdown",
   "metadata": {},
   "source": [
    "# List comprehension"
   ]
  },
  {
   "cell_type": "code",
   "execution_count": 9,
   "metadata": {},
   "outputs": [
    {
     "name": "stdout",
     "output_type": "stream",
     "text": [
      "[1]\n",
      "[1, 4]\n",
      "[1, 4, 9]\n",
      "[1, 4, 9, 16]\n",
      "[1, 4, 9, 16, 25]\n",
      "[1, 4, 9, 16, 25, 36]\n",
      "[1, 4, 9, 16, 25, 36, 49]\n",
      "[1, 4, 9, 16, 25, 36, 49, 64]\n",
      "[1, 4, 9, 16, 25, 36, 49, 64, 81]\n"
     ]
    }
   ],
   "source": [
    "a = [1,2,3,4,5,6,7,8,9,]\n",
    "squares = []\n",
    "\n",
    "for num in a:\n",
    "    squares.append(num**2) # code look like because it indend \n",
    "    print(squares)\n",
    "    "
   ]
  },
  {
   "cell_type": "code",
   "execution_count": 11,
   "metadata": {},
   "outputs": [
    {
     "name": "stdout",
     "output_type": "stream",
     "text": [
      "[1, 4, 9, 16, 25, 36, 49, 64, 81]\n"
     ]
    }
   ],
   "source": [
    "a = [1,2,3,4,5,6,7,8,9,]\n",
    "squares = []\n",
    "\n",
    "for num in a:\n",
    "    squares.append(num**2) # code look like this without indend \n",
    "print(squares)\n",
    "    "
   ]
  },
  {
   "cell_type": "code",
   "execution_count": 13,
   "metadata": {},
   "outputs": [],
   "source": [
    "sqr=[ num**2 for num in range(1,10) if num>4]\n"
   ]
  },
  {
   "cell_type": "code",
   "execution_count": 14,
   "metadata": {},
   "outputs": [
    {
     "data": {
      "text/plain": [
       "[25, 36, 49, 64, 81]"
      ]
     },
     "execution_count": 14,
     "metadata": {},
     "output_type": "execute_result"
    }
   ],
   "source": [
    "sqr"
   ]
  },
  {
   "cell_type": "code",
   "execution_count": null,
   "metadata": {},
   "outputs": [],
   "source": []
  }
 ],
 "metadata": {
  "kernelspec": {
   "display_name": "Python 3",
   "language": "python",
   "name": "python3"
  },
  "language_info": {
   "codemirror_mode": {
    "name": "ipython",
    "version": 3
   },
   "file_extension": ".py",
   "mimetype": "text/x-python",
   "name": "python",
   "nbconvert_exporter": "python",
   "pygments_lexer": "ipython3",
   "version": "3.7.3"
  }
 },
 "nbformat": 4,
 "nbformat_minor": 2
}
